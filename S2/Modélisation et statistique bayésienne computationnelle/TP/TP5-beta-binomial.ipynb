{
 "cells": [
  {
   "cell_type": "markdown",
   "metadata": {},
   "source": [
    "\n",
    "      CALCUL BAYESIEN POUR UN MODELE HIERARCHIQUE BETA - BINOMIAL\n",
    "\n",
    "       Utilisation de PyMC3\n",
    "\n",
    "\n",
    "\n",
    "                  Donnees X  ~ Loi BINOMIALE (N,p). \n",
    "\n",
    "                  Prior (niveau 1) sur p = THETA = Loi BETA (a,b)\n",
    "                  Prior (niveau 2) sur a = dgamma(0.0001,0.0001)\n",
    "                  b = 9 * a   \n",
    "\n",
    "\n",
    "\n",
    "\n"
   ]
  },
  {
   "cell_type": "code",
   "execution_count": null,
   "metadata": {},
   "outputs": [],
   "source": [
    "import arviz as az                    # fonctions utiles pour l'analyse exploratoire de modèles bayésiens\n",
    "import matplotlib.pyplot as plt\n",
    "import numpy as np\n",
    "import pandas as pd\n",
    "import pymc3 as pm                    # routines de calcul bayésien\n",
    "import pymc3.distributions.transforms as tr\n",
    "import seaborn as sns                 # routines de visualisation\n",
    "import theano.tensor as tt            # manipulation efficaces de structures de données (ex : tableaux multidim)\n",
    "\n",
    "\n",
    "%config InlineBackend.figure_format = 'retina'\n",
    "# Initialize random number generator\n",
    "RANDOM_SEED = 8927\n",
    "np.random.seed(RANDOM_SEED)\n",
    "az.style.use(\"arviz-darkgrid\")\n",
    "\n",
    "\n",
    "print(f\"Running on PyMC3 v{pm.__version__}\")  # Il est utile de penser à placer cette ligne"
   ]
  },
  {
   "cell_type": "code",
   "execution_count": null,
   "metadata": {},
   "outputs": [],
   "source": [
    "# Données\n",
    "x = np.array([7, 7, 5, 8, 3, 4, 6, 4, 5, 4, 4, 4, 6, 3, 5, 1, 5, 7, 7, 3])\n",
    "n = len(x)"
   ]
  },
  {
   "cell_type": "code",
   "execution_count": null,
   "metadata": {
    "scrolled": true
   },
   "outputs": [],
   "source": [
    "beta_binomial_model = pm.Model()  # crée un modèle bayésien\n",
    "\n",
    "with beta_binomial_model:    # crée un 'context manager', \n",
    "    \n",
    "    # Loi a priori gamma pour a (niveau 2)\n",
    "    a = pm.Gamma(\"a\",alpha=1,beta=1)\n",
    "    b = 9.0*a #pm.Deterministic(\"b\",9.0*a)\n",
    "    \n",
    "    # Loi a priori beta pour theta (niveau 1)\n",
    "    #theta = ?\n",
    "\n",
    "    # Vraisemblance X ~ theta\n",
    "    #p = ?\n",
    "    \n",
    "    #-----------\n",
    "    # Remarque :\n",
    "    #-----------\n",
    "    # Pour des variables binaires, il faut utiliser pm.BinaryMetropolis\n",
    "    # Pour des variables discrètes, des classes pm.Metropolis existents dans PyMC3\n",
    "    # voir : https://docs.pymc.io/api/inference.html\n",
    "    \n",
    "\n",
    "    # Echantillonnage\n",
    "    trace = pm.sample(10000, tune=2000, target_accept=0.95,chains=3)\n",
    "    \n",
    "    # Le sampleur générique \"pm.sample\" va utiliser une routine NUTS (No U-Turn Sampling) qui implémente\n",
    "    # un algorithme MCMC hamiltonien récent réservé aux variables continues\n",
    "    \n",
    "    \n",
    "    \n",
    "    # Traçons les résultats \n",
    "    #az.plot_trace(trace,var_names=[\"a\", \"theta\"])"
   ]
  },
  {
   "cell_type": "code",
   "execution_count": null,
   "metadata": {},
   "outputs": [],
   "source": [
    "# Regardons l'autocorrélation sur chaque chaîne MCMC\n",
    "with beta_binomial_model:\n",
    "   # az.plot_autocorr(trace,var_names=[\"theta\"])"
   ]
  },
  {
   "cell_type": "code",
   "execution_count": null,
   "metadata": {},
   "outputs": [],
   "source": [
    "with beta_binomial_model: \n",
    "    # Traçons la loi a posteriori \n",
    "   # az.plot_posterior(trace, var_names=[\"theta\"])"
   ]
  },
  {
   "cell_type": "code",
   "execution_count": null,
   "metadata": {},
   "outputs": [],
   "source": [
    "# Estimons de nouveau la moyenne a posteriori\n",
    "#trace[\"theta\"].mean(axis=0)"
   ]
  },
  {
   "cell_type": "code",
   "execution_count": null,
   "metadata": {},
   "outputs": [],
   "source": [
    "# On peut aussi faire un violin plot\n",
    "# ?"
   ]
  },
  {
   "cell_type": "code",
   "execution_count": null,
   "metadata": {},
   "outputs": [],
   "source": [
    "# On peut fournir un plus vaste ensemble de résultats\n",
    "with beta_binomial_model:\n",
    "    # ? "
   ]
  },
  {
   "cell_type": "code",
   "execution_count": null,
   "metadata": {},
   "outputs": [],
   "source": [
    "# On peut faire aussi le calcul du MAP (Maximum a Posteriori) à partir de la définition du modèle\n",
    "# Ce calcul est fait par défaut par l'algorithme BFGS \n",
    "with beta_binomial_model:\n",
    "    map_estimate = pm.find_MAP(model=beta_binomial_model,method=\"BFGS\")\n",
    "map_estimate"
   ]
  },
  {
   "cell_type": "code",
   "execution_count": null,
   "metadata": {},
   "outputs": [],
   "source": [
    "# Essayez de remplacer les choix a priori sur a et b en utilisant le concept de données virtuelles"
   ]
  },
  {
   "cell_type": "code",
   "execution_count": null,
   "metadata": {},
   "outputs": [],
   "source": [
    "# Calcul du critère WAIC\n",
    "with beta_binomial_model:\n",
    "    # waic = ?\n",
    "waic"
   ]
  },
  {
   "cell_type": "code",
   "execution_count": null,
   "metadata": {},
   "outputs": [],
   "source": [
    "# Calcul du critère WAIC par Leave-One-Out\n",
    "with beta_binomial_model:\n",
    "   # waic_loo = ?\n",
    "waic_loo"
   ]
  }
 ],
 "metadata": {
  "kernelspec": {
   "display_name": "Python 3",
   "language": "python",
   "name": "python3"
  },
  "language_info": {
   "codemirror_mode": {
    "name": "ipython",
    "version": 3
   },
   "file_extension": ".py",
   "mimetype": "text/x-python",
   "name": "python",
   "nbconvert_exporter": "python",
   "pygments_lexer": "ipython3",
   "version": "3.7.4"
  }
 },
 "nbformat": 4,
 "nbformat_minor": 2
}
