{
  "nbformat": 4,
  "nbformat_minor": 0,
  "metadata": {
    "kernelspec": {
      "display_name": "Python 3",
      "language": "python",
      "name": "python3"
    },
    "language_info": {
      "codemirror_mode": {
        "name": "ipython",
        "version": 3
      },
      "file_extension": ".py",
      "mimetype": "text/x-python",
      "name": "python",
      "nbconvert_exporter": "python",
      "pygments_lexer": "ipython3",
      "version": "3.7.6"
    },
    "colab": {
      "provenance": []
    }
  },
  "cells": [
    {
      "cell_type": "markdown",
      "metadata": {
        "id": "PbzBJ1m9FBBb"
      },
      "source": [
        "<center><h1>1-ab: SIFT & BoW</h1></center>\n",
        "\n",
        "<center><h2><a href=\"https://rdfia.github.io/\">Course link</a></h2></center>\n",
        "\n",
        "# Warning : \n",
        "# Do \"File -> Save a copy in Drive\" before you start modifying the notebook, otherwise your modifications will not be saved.\n",
        "\n"
      ]
    },
    {
      "cell_type": "code",
      "metadata": {
        "id": "NfnKy8NB8J5e"
      },
      "source": [
        "!wget https://github.com/rdfia/rdfia.github.io/raw/master/data/TP1-2-data.zip\n",
        "      \n",
        "!unzip TP1-2-data.zip\n",
        "\n",
        "!wget https://raw.githubusercontent.com/rdfia/rdfia.github.io/master/code/1-ab/tools.py"
      ],
      "execution_count": null,
      "outputs": []
    },
    {
      "cell_type": "code",
      "metadata": {
        "id": "2vQ_LLdx8J5b"
      },
      "source": [
        "import matplotlib\n",
        "import matplotlib.pyplot as plt\n",
        "%matplotlib inline  \n",
        "\n",
        "import numpy as np\n",
        "%run 'tools.py'\n",
        "from os.path import join\n",
        "\n",
        "data_path = \"data\""
      ],
      "execution_count": null,
      "outputs": []
    },
    {
      "cell_type": "markdown",
      "metadata": {
        "id": "48x_ha7f8J5i"
      },
      "source": [
        "# Part 1 : SIFT"
      ]
    },
    {
      "cell_type": "code",
      "metadata": {
        "id": "pxZOH3wD8J5i",
        "colab": {
          "base_uri": "https://localhost:8080/",
          "height": 286
        },
        "outputId": "19e917fb-8833-4ae3-9451-8b0ce2a9ed62"
      },
      "source": [
        "# example images\n",
        "I = read_grayscale(join(data_path, 'tools.tiff'))\n",
        "I2 = read_grayscale(join(data_path, 'Scene/CALsuburb/image_0205.jpg'))\n",
        "plt.imshow(I ,  cmap='gray' )"
      ],
      "execution_count": null,
      "outputs": [
        {
          "output_type": "execute_result",
          "data": {
            "text/plain": [
              "<matplotlib.image.AxesImage at 0x7f93c3d1afd0>"
            ]
          },
          "metadata": {},
          "execution_count": 5
        },
        {
          "output_type": "display_data",
          "data": {
            "text/plain": [
              "<Figure size 432x288 with 1 Axes>"
            ],
            "image/png": "[encoded data removed]"
          },
          "metadata": {
            "needs_background": "light"
          }
        }
      ]
    },
    {
      "cell_type": "code",
      "metadata": {
        "id": "EJKLEzx88J5k",
        "colab": {
          "base_uri": "https://localhost:8080/",
          "height": 357
        },
        "outputId": "45e0c2ed-5f4f-4a97-caf9-78d215d5c921"
      },
      "source": [
        "def compute_grad(I):\n",
        "    #####################\n",
        "    ## Your code here  ##\n",
        "    #####################\n",
        "\n",
        "    ####################\n",
        "    ##      END        #\n",
        "    ####################\n",
        "    return Ix, Iy\n",
        "\n",
        "# Example\n",
        "Ix, Iy = compute_grad(I)\n",
        "plt.imshow(Ix ,  cmap='gray')\n",
        "plt.colorbar()\n",
        "plt.show()\n",
        "plt.imshow(Iy ,  cmap='gray')\n",
        "plt.colorbar()\n",
        "plt.show()"
      ],
      "execution_count": null,
      "outputs": [
        {
          "output_type": "error",
          "ename": "NameError",
          "evalue": "ignored",
          "traceback": [
            "\u001b[0;31m---------------------------------------------------------------------------\u001b[0m",
            "\u001b[0;31mNameError\u001b[0m                                 Traceback (most recent call last)",
            "\u001b[0;32m<ipython-input-6-0c557a187248>\u001b[0m in \u001b[0;36m<module>\u001b[0;34m\u001b[0m\n\u001b[1;32m     10\u001b[0m \u001b[0;34m\u001b[0m\u001b[0m\n\u001b[1;32m     11\u001b[0m \u001b[0;31m# Example\u001b[0m\u001b[0;34m\u001b[0m\u001b[0;34m\u001b[0m\u001b[0;34m\u001b[0m\u001b[0m\n\u001b[0;32m---> 12\u001b[0;31m \u001b[0mIx\u001b[0m\u001b[0;34m,\u001b[0m \u001b[0mIy\u001b[0m \u001b[0;34m=\u001b[0m \u001b[0mcompute_grad\u001b[0m\u001b[0;34m(\u001b[0m\u001b[0mI\u001b[0m\u001b[0;34m)\u001b[0m\u001b[0;34m\u001b[0m\u001b[0;34m\u001b[0m\u001b[0m\n\u001b[0m\u001b[1;32m     13\u001b[0m \u001b[0mplt\u001b[0m\u001b[0;34m.\u001b[0m\u001b[0mimshow\u001b[0m\u001b[0;34m(\u001b[0m\u001b[0mIx\u001b[0m \u001b[0;34m,\u001b[0m  \u001b[0mcmap\u001b[0m\u001b[0;34m=\u001b[0m\u001b[0;34m'gray'\u001b[0m\u001b[0;34m)\u001b[0m\u001b[0;34m\u001b[0m\u001b[0;34m\u001b[0m\u001b[0m\n\u001b[1;32m     14\u001b[0m \u001b[0mplt\u001b[0m\u001b[0;34m.\u001b[0m\u001b[0mcolorbar\u001b[0m\u001b[0;34m(\u001b[0m\u001b[0;34m)\u001b[0m\u001b[0;34m\u001b[0m\u001b[0;34m\u001b[0m\u001b[0m\n",
            "\u001b[0;32m<ipython-input-6-0c557a187248>\u001b[0m in \u001b[0;36mcompute_grad\u001b[0;34m(I)\u001b[0m\n\u001b[1;32m      7\u001b[0m     \u001b[0;31m##      END        #\u001b[0m\u001b[0;34m\u001b[0m\u001b[0;34m\u001b[0m\u001b[0;34m\u001b[0m\u001b[0m\n\u001b[1;32m      8\u001b[0m     \u001b[0;31m####################\u001b[0m\u001b[0;34m\u001b[0m\u001b[0;34m\u001b[0m\u001b[0;34m\u001b[0m\u001b[0m\n\u001b[0;32m----> 9\u001b[0;31m     \u001b[0;32mreturn\u001b[0m \u001b[0mIx\u001b[0m\u001b[0;34m,\u001b[0m \u001b[0mIy\u001b[0m\u001b[0;34m\u001b[0m\u001b[0;34m\u001b[0m\u001b[0m\n\u001b[0m\u001b[1;32m     10\u001b[0m \u001b[0;34m\u001b[0m\u001b[0m\n\u001b[1;32m     11\u001b[0m \u001b[0;31m# Example\u001b[0m\u001b[0;34m\u001b[0m\u001b[0;34m\u001b[0m\u001b[0;34m\u001b[0m\u001b[0m\n",
            "\u001b[0;31mNameError\u001b[0m: name 'Ix' is not defined"
          ]
        }
      ]
    },
    {
      "cell_type": "code",
      "source": [
        "Ix"
      ],
      "metadata": {
        "colab": {
          "base_uri": "https://localhost:8080/",
          "height": 166
        },
        "id": "gFQ8iopBGjoR",
        "outputId": "d00c09e4-4a4e-45aa-902d-5f1ccb65bb88"
      },
      "execution_count": null,
      "outputs": [
        {
          "output_type": "error",
          "ename": "NameError",
          "evalue": "ignored",
          "traceback": [
            "\u001b[0;31m---------------------------------------------------------------------------\u001b[0m",
            "\u001b[0;31mNameError\u001b[0m                                 Traceback (most recent call last)",
            "\u001b[0;32m<ipython-input-7-9b3ea5042c01>\u001b[0m in \u001b[0;36m<module>\u001b[0;34m\u001b[0m\n\u001b[0;32m----> 1\u001b[0;31m \u001b[0mIx\u001b[0m\u001b[0;34m\u001b[0m\u001b[0;34m\u001b[0m\u001b[0m\n\u001b[0m",
            "\u001b[0;31mNameError\u001b[0m: name 'Ix' is not defined"
          ]
        }
      ]
    },
    {
      "cell_type": "code",
      "metadata": {
        "id": "GtizX1JV8J5n"
      },
      "source": [
        "def compute_grad_mod_ori(I):\n",
        "    #####################\n",
        "    ## Your code here  ##\n",
        "    #####################\n",
        "\n",
        "    \n",
        "    ####################\n",
        "    ##      END        #\n",
        "    ####################\n",
        "    return Gn, Go"
      ],
      "execution_count": null,
      "outputs": []
    },
    {
      "cell_type": "code",
      "metadata": {
        "id": "ktUrFzsk8J5p"
      },
      "source": [
        "Gn, Go = compute_grad_mod_ori(I)\n",
        "plt.imshow(Gn)\n",
        "plt.show()\n",
        "plt.imshow(Go)\n",
        "plt.show()"
      ],
      "execution_count": null,
      "outputs": []
    },
    {
      "cell_type": "code",
      "metadata": {
        "id": "gOo5S8nu8J5r"
      },
      "source": [
        "def compute_histogram(g_n, g_o):\n",
        "    \"\"\"\n",
        "    g_n and g_o are 4x4 matrices that contain the norm, and the discretized orientation.\n",
        "    Warning: g_o can contain -1, those values should be discarded.\n",
        "    \"\"\"\n",
        "    hist = np.zeros((8))\n",
        "\n",
        "    #####################\n",
        "    ## Votre code ici  ##\n",
        "    #####################\n",
        "\n",
        "    \n",
        "    ####################\n",
        "    ##      FIN        #\n",
        "    ####################\n",
        "    return hist\n",
        "  "
      ],
      "execution_count": null,
      "outputs": []
    },
    {
      "cell_type": "code",
      "metadata": {
        "id": "eAsumzFI8J5u"
      },
      "source": [
        "def compute_sift_region(Gn, Go, mask=None):\n",
        "    t_min=.5\n",
        "    t_max=.2\n",
        "    with_l2 = True\n",
        "\n",
        "    patch_size = 16\n",
        "    sift = np.zeros((128)) \n",
        "\n",
        "    if mask is not None:\n",
        "        Gn = Gn * mask\n",
        "    \n",
        "    idx = 0\n",
        "    for k in range(0, patch_size, 4):\n",
        "        for l in range(0, patch_size, 4):\n",
        "            hist = compute_histogram(Gn[l:l+4,k:k+4], Go[l:l+4,k:k+4])            \n",
        "            sift[idx:idx+8] = hist\n",
        "            idx += 8\n",
        "\n",
        "    norm = np.linalg.norm(sift, ord=2)\n",
        "    # min thresholding on norm\n",
        "    if norm <= t_min:\n",
        "        return np.zeros((128))\n",
        "    # l2-normalization\n",
        "    if with_l2:\n",
        "        sift = sift / norm\n",
        "    # max thresholding on values\n",
        "    sift[sift >= t_max] = t_max\n",
        "    # l2-normalization\n",
        "    if with_l2:\n",
        "        norm = np.linalg.norm(sift, ord=2)\n",
        "        sift = sift / norm\n",
        "    return sift"
      ],
      "execution_count": null,
      "outputs": []
    },
    {
      "cell_type": "code",
      "metadata": {
        "id": "GESlu74v8J5w"
      },
      "source": [
        "# Example of viz of SIFTs\n",
        "# set gausm to True to apply mask weighting of gradients\n",
        "#display_sift_region(I,           compute_grad_mod_ori, compute_sift_region, x=200, y=78, gausm=False)\n",
        "#display_sift_region(marche_im(), compute_grad_mod_ori, compute_sift_region, x=100, y=125, gausm=False)\n",
        "#display_sift_region(marche_im(), compute_grad_mod_ori, compute_sift_region, x=100, y=125, gausm=False)\n",
        "#display_sift_region(marche_im(), compute_grad_mod_ori, compute_sift_region, x=125, y=100, gausm=False)\n",
        "#display_sift_region(marche_im(), compute_grad_mod_ori, compute_sift_region, x=121, y=121, gausm=False)\n",
        "#display_sift_region(toy_im(),    compute_grad_mod_ori, compute_sift_region, x=95, y=95, gausm=False)"
      ],
      "execution_count": null,
      "outputs": []
    },
    {
      "cell_type": "code",
      "metadata": {
        "id": "f68dU2zc8J5y"
      },
      "source": [
        "def compute_sift_image(I):\n",
        "    x, y = dense_sampling(I)\n",
        "    im = auto_padding(I)\n",
        "    m = gaussian_mask()\n",
        "    \n",
        "    #####################\n",
        "    ## Your code here  ##\n",
        "    #####################\n",
        "    # Here, compute on the global image (norm, gradients)\n",
        "    Gn, Go = None\n",
        "\n",
        "    ####################\n",
        "    ##      END        #\n",
        "    ####################\n",
        "\n",
        "    sifts = np.zeros((len(x), len(y), 128))\n",
        "    for i, xi in enumerate(x):\n",
        "        for j, yj in enumerate(y):\n",
        "            #####################\n",
        "            ## Your code here  ##\n",
        "            #####################\n",
        "\n",
        "            sifts[i, j, :] = None # TODO SIFT of the patch of coords (xi, yj)\n",
        "\n",
        "            ####################\n",
        "            ##      END        #\n",
        "            ####################\n",
        "\n",
        "    return sifts"
      ],
      "execution_count": null,
      "outputs": []
    },
    {
      "cell_type": "markdown",
      "metadata": {
        "id": "yZukBC_K8J50"
      },
      "source": [
        "# Compute SIFT"
      ]
    },
    {
      "cell_type": "markdown",
      "metadata": {
        "id": "yrzmLgQA8J50"
      },
      "source": [
        "The computation can take several minutes."
      ]
    },
    {
      "cell_type": "code",
      "metadata": {
        "id": "oGMbF2Sj9cus"
      },
      "source": [
        "from google.colab import drive\n",
        "drive.mount('/content/gdrive')"
      ],
      "execution_count": null,
      "outputs": []
    },
    {
      "cell_type": "code",
      "metadata": {
        "id": "PlKBdt558J57"
      },
      "source": [
        "max_images_per_class = 10  # You can change this to None to compute the whole dataset (takes quite some time)\n",
        "\n",
        "save_path = \"/content/gdrive/My Drive/rdfia/\"\n",
        "dir_sc = os.path.join(data_path, 'Scene')\n",
        "dir_sift = os.path.join(save_path, 'sift')\n",
        "inames, ilabls, cnames = load_dataset(dir_sc, images_per_class=max_images_per_class)\n",
        "sifts_list_by_image = compute_load_sift_dataset(dir_sc, dir_sift, inames, compute_sift_image)"
      ],
      "execution_count": null,
      "outputs": []
    },
    {
      "cell_type": "markdown",
      "metadata": {
        "id": "OrHHH5PL8J54"
      },
      "source": [
        "# Part 2 : Visual dictionnary"
      ]
    },
    {
      "cell_type": "code",
      "metadata": {
        "id": "9q755wymUvQQ"
      },
      "source": [
        "from sklearn.cluster import KMeans\n",
        "\n",
        "path_vdict = os.path.join(save_path, 'kmeans', 'vdict.npy')\n",
        "os.makedirs(os.path.join(save_path, 'kmeans'), exist_ok=True)"
      ],
      "execution_count": null,
      "outputs": []
    },
    {
      "cell_type": "code",
      "metadata": {
        "id": "w42e1Z6d8J6A"
      },
      "source": [
        "# Code here the `compute_visual_dict` function\n",
        "def compute_visual_dict(sift, n_clusters=1000, n_init=1, verbose=1):\n",
        "    # reorder data\n",
        "    dim_sift = sift[0].shape[-1]\n",
        "    sift = [s.reshape(-1, dim_sift) for s in sift]\n",
        "    sift = np.concatenate(sift, axis=0)\n",
        "    # remove zero vectors\n",
        "    keep = ~np.all(sift==0, axis=1)\n",
        "    sift = sift[keep]\n",
        "    # randomly pick sift\n",
        "    ids, _ = compute_split(sift.shape[0], pc=0.05)\n",
        "    sift = sift[ids]\n",
        "\n",
        "    # TODO compute kmeans on `sift`, get cluster centers, add zeros vector, and return visual dict\n",
        "    #####################\n",
        "    ## Your code here  ##\n",
        "    #####################\n",
        "\n",
        "    vdict = None\n",
        "    \n",
        "    ####################\n",
        "    ##      END        #\n",
        "    ####################\n",
        "    return vdict\n"
      ],
      "execution_count": null,
      "outputs": []
    },
    {
      "cell_type": "code",
      "metadata": {
        "id": "97qG503C8J6C"
      },
      "source": [
        "# Run the visual dict computation (saved the first time)\n",
        "vdict = compute_or_load_vdict(dir_sc, dir_sift, inames, compute_sift_image, path_vdict, compute_visual_dict)"
      ],
      "execution_count": null,
      "outputs": []
    },
    {
      "cell_type": "code",
      "metadata": {
        "id": "pcpOdcs58J6F"
      },
      "source": [
        "# Study of the dict\n",
        "\n",
        "# choose random images\n",
        "indexes = np.random.randint(0, len(inames), 30)\n",
        "sifts = [sifts_list_by_image[i] for i in indexes]\n",
        "chosen_inames = [inames[i] for i in indexes]\n",
        "\n",
        "regions, sifts = get_regions_and_sifts(dir_sc, chosen_inames, sifts) # Compute SIFT and regions from 30 random images\n",
        "# display_images(regions[np.random.choice(len(regions), 100)]) # Show 100 random regions\n",
        "\n",
        "centers = list(range(20))\n",
        "for center in centers:\n",
        "  center_vect = vdict[center]\n",
        "  dist = ((sifts - center_vect)**2).sum(axis=1)\n",
        "  # get best 100\n",
        "  top100 = dist.argsort()[:100]\n",
        "  top100_regions = regions[top100]\n",
        "  display_images(top100_regions) # Show 100 random regions"
      ],
      "execution_count": null,
      "outputs": []
    },
    {
      "cell_type": "markdown",
      "metadata": {
        "id": "5FV1iss68J6H"
      },
      "source": [
        "# Partie 3 : BoW"
      ]
    },
    {
      "cell_type": "code",
      "metadata": {
        "id": "5-h4r-FH8J6I"
      },
      "source": [
        "# TODO Compute BoW for an image\n",
        "# indication: scipy.spatial.distance_matrix\n",
        "from sklearn.metrics.pairwise import euclidean_distances\n",
        "from scipy.spatial import distance_matrix\n",
        "\n",
        "def compute_feats(vdict, image_sifts):\n",
        "    \"\"\"\n",
        "    vdict: (num_clusters, 128): visual dictionnary containing all clusters.\n",
        "    image_sifts: (H, W, 128) all sift features from the given image\n",
        "    \"\"\"\n",
        "    # flatten sifts\n",
        "    sifts = image_sifts.reshape(-1, 128)  # (N, 128)\n",
        "    feats = np.zeros(vdict.shape[0])\n",
        "\n",
        "    ##################### \n",
        "    ## Your code here  ##\n",
        "    #####################\n",
        "    # compute distance from image sifts to vdict\n",
        "\n",
        "  \n",
        "    ####################\n",
        "    ##      END        #\n",
        "    ####################\n",
        "    return feats"
      ],
      "execution_count": null,
      "outputs": []
    },
    {
      "cell_type": "code",
      "metadata": {
        "id": "Is9sv-RM8J6K"
      },
      "source": [
        "# Visualize your BoW on an image\n",
        "\n",
        "iname = inames[0]\n",
        "ipath = os.path.join(dir_sc, iname)\n",
        "im = read_grayscale(ipath)\n",
        "sift = compute_sift_image(im)\n",
        "sift = (sift * 255).astype('uint8')\n",
        "regions = compute_regions(im)\n",
        "feats = compute_feats(vdict, sift)\n",
        "\n",
        "display_vdregions_image(im, vdict, sift, feats, vdregions=None) # if you have vdregions, add it as input here"
      ],
      "execution_count": null,
      "outputs": []
    },
    {
      "cell_type": "markdown",
      "metadata": {
        "id": "xEmnYyZdE_vH"
      },
      "source": []
    }
  ]
}