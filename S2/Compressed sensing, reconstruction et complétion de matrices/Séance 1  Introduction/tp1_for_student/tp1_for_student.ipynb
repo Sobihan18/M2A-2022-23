{
 "cells": [
  {
   "cell_type": "markdown",
   "metadata": {},
   "source": [
    "# Practical work 1: representation, measurements and sparsity"
   ]
  },
  {
   "cell_type": "markdown",
   "metadata": {},
   "source": [
    "The goal of this notebook is to get familiar with some concepts presented during the first 2 course sessions and to get some intuition for the sequel.\n"
   ]
  },
  {
   "cell_type": "markdown",
   "metadata": {},
   "source": [
    "## I. Approximations\n",
    "\n",
    "In this section, signals or images are represented in various bases. We are particularly interested in basis in which a few coefficients carry out the main information of the signal (i.e. in which the signal will be nearly sparse).\n",
    "\n",
    "In order to measure the difference between the image and its compressed version, one can use the Signal-to-noise ration (SNR), defined as follows:\n",
    "$$ \\text{SNR} = -20 \\log_{10} \\frac{\\| f- f_{[K]} \\|}{\\| f\\|},\n",
    "$$\n",
    "where $f_{[K]}$ is a (sparse) approximation of $f$. The higer the SNR, the better the quality of the approximation.\n"
   ]
  },
  {
   "cell_type": "markdown",
   "metadata": {},
   "source": [
    "### 1) Preliminaries\n",
    "\n",
    "We need to load some packages to make accessible the usual Python routines. "
   ]
  },
  {
   "cell_type": "code",
   "execution_count": null,
   "metadata": {
    "collapsed": false
   },
   "outputs": [],
   "source": [
    "#from __future__ import division  # For Python 2 only\n",
    "\n",
    "import numpy as np\n",
    "import scipy as scp\n",
    "import pylab as pyl\n",
    "import matplotlib.pyplot as plt\n",
    "from scipy.io import loadmat\n",
    "\n",
    "from nt_toolbox.general import *\n",
    "from nt_toolbox.signal import *\n",
    "from nt_toolbox.optim import *\n",
    "from nt_toolbox.perform_wavelet_transf import *\n",
    "from nt_toolbox.compute_wavelet_filter import *\n",
    "\n",
    "import warnings\n",
    "warnings.filterwarnings('ignore')\n",
    "\n",
    "%matplotlib inline\n",
    "%load_ext autoreload\n",
    "%autoreload 2"
   ]
  },
  {
   "cell_type": "markdown",
   "metadata": {},
   "source": [
    "\n",
    "First, we load an image in the variable $\\texttt{f}$. An image with $n$ pixels is stored on a computer as a matrix of size $n_0\\times n_0$ with $n=n_0 \\times n_0$."
   ]
  },
  {
   "cell_type": "code",
   "execution_count": null,
   "metadata": {
    "collapsed": false
   },
   "outputs": [],
   "source": [
    "n0 = 512\n",
    "f = rescale(load_image(\"nt_toolbox/data/lena.png\", n0))\n",
    "f.shape # to check the dimensions of f  "
   ]
  },
  {
   "cell_type": "markdown",
   "metadata": {},
   "source": [
    "To display the image, proceed as follows."
   ]
  },
  {
   "cell_type": "code",
   "execution_count": null,
   "metadata": {
    "collapsed": false
   },
   "outputs": [],
   "source": [
    "plt.figure(figsize = (5,5))\n",
    "imageplot(f, 'Image f')"
   ]
  },
  {
   "cell_type": "markdown",
   "metadata": {},
   "source": [
    "### 2) Fourier transform\n",
    "In 2D, the Fourier orthonormal basis is defined as\n",
    "$$ \\psi_m(k) = \\frac{1}{\\sqrt{n}}e^{\\frac{2i\\pi}{n_0} \\left\\langle m , k \\right\\rangle } $$\n",
    "where $0 \\leq k_1,k_2 < n_0$ are position indexes,\n",
    "and $0 \\leq m_1,m_2 < n_0$ are frequency indexes.\n",
    "\n",
    "\n",
    "The Fourier transform $\\hat f$ is the projection of the image on this Fourier\n",
    "basis\n",
    "\n",
    "$$ \\hat f(m) = \\left\\langle f , \\psi_m \\right\\rangle. $$\n",
    "\n",
    "\n",
    "The Fourier transform is computed in $ O(n \\log(n)) $ operation using the FFT algorithm\n",
    "(Fast Fourier Transform).\n",
    "Note the normalization by $\\sqrt{n}=n_0$ to make the transform orthonormal."
   ]
  },
  {
   "cell_type": "code",
   "execution_count": null,
   "metadata": {
    "collapsed": true
   },
   "outputs": [],
   "source": [
    "F = pyl.fft2(f)/n0"
   ]
  },
  {
   "cell_type": "markdown",
   "metadata": {},
   "source": [
    "You can check that this is an isometry: it preserves the signal energy in the transformed domain."
   ]
  },
  {
   "cell_type": "code",
   "execution_count": null,
   "metadata": {
    "collapsed": false
   },
   "outputs": [],
   "source": [
    "from pylab import linalg\n",
    "\n",
    "print(\"Energy of Image:   %f\" %linalg.norm(f))\n",
    "print(\"Energy of Fourier: %f\" %linalg.norm(F))"
   ]
  },
  {
   "cell_type": "markdown",
   "metadata": {},
   "source": [
    "Compute the logarithm of the Fourier magnitude $ \\log\\left(\\left|\\hat f(m)\\right| +\n",
    "\\epsilon\\right) $, for some small $\\epsilon$."
   ]
  },
  {
   "cell_type": "code",
   "execution_count": null,
   "metadata": {
    "collapsed": true
   },
   "outputs": [],
   "source": [
    "L = pyl.fftshift(np.log(abs(F) + 1e-1))"
   ]
  },
  {
   "cell_type": "markdown",
   "metadata": {},
   "source": [
    "Display. Note that we use the function fftshift to put the 0 low frequency in the\n",
    "middle."
   ]
  },
  {
   "cell_type": "code",
   "execution_count": null,
   "metadata": {
    "collapsed": false
   },
   "outputs": [],
   "source": [
    "plt.figure(figsize = (5,5))\n",
    "imageplot(L, 'Log(Fourier transform)')"
   ]
  },
  {
   "cell_type": "markdown",
   "metadata": {},
   "source": [
    "### Linear Fourier Approximation\n",
    "----------------------------\n",
    "An approximation is obtained by retaining a certain set of index $I_M$\n",
    "\n",
    "$$ f_M = \\sum_{ m \\in I_M } \\langle {f} , {\\psi_m} \\rangle \\psi_m. $$\n",
    "\n",
    "\n",
    "Linear approximation is obtained by retaining a *fixed* set $I_M$\n",
    "of $M = |I_M|$ coefficients. The important point is that $I_M$\n",
    "does not depend on the image $f$ to be approximated.\n",
    "\n",
    "\n",
    "For the Fourier transform, a low pass linear approximation\n",
    "is obtained by keeping only the frequencies within a square.\n",
    "\n",
    "$$ I_M = \\{m=(m_1,m_2), \\quad { -q/2 \\leq m_1,m_2 < q/2 } \\} $$\n",
    "where $ q = \\sqrt{M} $.\n",
    "\n",
    "\n",
    "This can be achieved by computing the Fourier transform,\n",
    "setting to zero the $N-M$ coefficients outside the square $I_M$\n",
    "and then inverting the Fourier transform.\n",
    "\n",
    "\n",
    "Number $M$ of kept coefficients."
   ]
  },
  {
   "cell_type": "code",
   "execution_count": null,
   "metadata": {
    "collapsed": true
   },
   "outputs": [],
   "source": [
    "M = n0**2//64"
   ]
  },
  {
   "cell_type": "markdown",
   "metadata": {},
   "source": [
    "__Exercise 1__ \n",
    "\n",
    "\n",
    "1.  Perform the linear Fourier approximation with $M$ coefficients.\n",
    "+  Store the result in the variable $f_M$. \n",
    "+ Compute the SNR of the approximated image using the function $\\texttt{snr}$.\n",
    "+ Display the approximated image.\n"
   ]
  },
  {
   "cell_type": "code",
   "execution_count": null,
   "metadata": {
    "collapsed": false
   },
   "outputs": [],
   "source": [
    "# TO BE COMPLETED"
   ]
  },
  {
   "cell_type": "markdown",
   "metadata": {},
   "source": [
    "### Non-linear Fourier Approximation\n",
    "--------------------------------\n",
    "Non-linear approximation is obtained by keeping the $M$ largest\n",
    "coefficients. This is equivalently computed using a thresholding of the\n",
    "coefficients\n",
    "$$ I_M = \\left\\{ m, \\quad  \\left| \\langle f , \\psi_m \\rangle \\right| >T \\right\\}. $$\n",
    "\n",
    "\n",
    "We set a threshold $T>0$, and perform hard-thresholding on the Fourier coefficients."
   ]
  },
  {
   "cell_type": "code",
   "execution_count": null,
   "metadata": {
    "collapsed": false
   },
   "outputs": [],
   "source": [
    "T = .2\n",
    "F = pyl.fft2(f)/n0\n",
    "FT = np.multiply(F,(abs(F) > T))\n",
    "\n",
    "#display the log of thresholded Fourier coefficients\n",
    "L = pyl.fftshift(np.log(abs(FT) + 1e-1))\n",
    "plt.figure(figsize = (5,5))\n",
    "imageplot(L, 'thresholded Log(Fourier transform)')"
   ]
  },
  {
   "cell_type": "markdown",
   "metadata": {},
   "source": [
    "Once the hard-thresholding performed, one can go back in the initial domain, and see the corresponding non-linear approximation of the initial image."
   ]
  },
  {
   "cell_type": "code",
   "execution_count": null,
   "metadata": {
    "collapsed": false
   },
   "outputs": [],
   "source": [
    "fM = np.real(pyl.ifft2(FT)*n0)\n",
    "\n",
    "#display\n",
    "plt.figure(figsize = (5,5))\n",
    "imageplot(clamp(fM), \"Linear, Fourier, SNR = %.1f dB\" %snr(f, fM))"
   ]
  },
  {
   "cell_type": "markdown",
   "metadata": {},
   "source": [
    "For a given $T$, one can compute the proportion of coefficients kept in the non-linear approximation."
   ]
  },
  {
   "cell_type": "code",
   "execution_count": null,
   "metadata": {
    "collapsed": false
   },
   "outputs": [],
   "source": [
    "m = np.sum(FT != 0)\n",
    "print('M/N = 1/%d'  %(n0**2/m))"
   ]
  },
  {
   "cell_type": "markdown",
   "metadata": {},
   "source": [
    "__Exercise 2__ \n",
    "\n",
    "\n",
    "1.  Perform the non-linear Fourier approximation with $M$ coefficients: it means you have to find the right threshold $T$ in order to keep exactly $M$ coefficients.\n",
    "+  Store the result in the variable $f_M$. \n",
    "+ Compute the SNR of the approximated image using the function $\\texttt{snr}$.\n",
    "+ Display the approximated image.\n",
    "+ Compare with the linear approximation."
   ]
  },
  {
   "cell_type": "code",
   "execution_count": null,
   "metadata": {
    "collapsed": false
   },
   "outputs": [],
   "source": [
    "# TO BE COMPLETED"
   ]
  },
  {
   "cell_type": "markdown",
   "metadata": {},
   "source": [
    "## 3) Wavelets"
   ]
  },
  {
   "cell_type": "markdown",
   "metadata": {},
   "source": [
    "A wavelet basis $ \\mathcal{B} = \\{ \\psi_m \\}_m $\n",
    "is obtained over the continuous domain by translating and\n",
    "dilating three mother wavelet functions $ \\{\\psi^V,\\psi^H,\\psi^D\\} $\n",
    " (V,H,D to catch respectively Vertical, Horizontal and Diagonal details).\n",
    "\n",
    "Each wavelet atom is defined as\n",
    "$$ \\psi_m(x) = \\psi_{j,n}^k(x) = \\frac{1}{2^j}\\psi^k\\left( \\frac{x-2^j n}{2^j} \\right) $$\n",
    "\n",
    "The scale (size of the support) is $2^j$ and the position is\n",
    "$2^j(n_1,n_2)$. The index is $ m=(k,j,n) $ for $\\{ j \\leq 0 \\}$.\n",
    "\n",
    "\n",
    "The wavelet transform computes all the inner products\n",
    "$ \\{ \\langle f , \\psi_{j,n}^k \\rangle \\}_{k,j,n} $.\n",
    "\n",
    "\n",
    "Set the minimum scale for the transform to be 0."
   ]
  },
  {
   "cell_type": "code",
   "execution_count": null,
   "metadata": {
    "collapsed": true
   },
   "outputs": [],
   "source": [
    "Jmin = 0"
   ]
  },
  {
   "cell_type": "markdown",
   "metadata": {},
   "source": [
    "Perform the wavelet transform,  $f_w$ stores all the wavelet coefficients."
   ]
  },
  {
   "cell_type": "code",
   "execution_count": null,
   "metadata": {
    "collapsed": true
   },
   "outputs": [],
   "source": [
    "h = compute_wavelet_filter(\"Daubechies\",10)\n",
    "fw = perform_wavortho_transf(f, Jmin, + 1, h)"
   ]
  },
  {
   "cell_type": "markdown",
   "metadata": {},
   "source": [
    "Display."
   ]
  },
  {
   "cell_type": "code",
   "execution_count": null,
   "metadata": {
    "collapsed": false
   },
   "outputs": [],
   "source": [
    "plt.figure(figsize=(10,10))\n",
    "\n",
    "plot_wavelet(fw)\n",
    "plt.title('Wavelet coefficients')\n",
    "\n",
    "plt.show()"
   ]
  },
  {
   "cell_type": "markdown",
   "metadata": {},
   "source": [
    "__Exercise 3__ \n",
    "\n",
    "\n",
    "1.  Perform the linear Wavelet approximation with $M$ coefficients.\n",
    "+  Store the result in the variable $f_M$. \n",
    "+ Compute the SNR of the approximated image using the function $\\texttt{snr}$.\n",
    "+ Display the approximated image."
   ]
  },
  {
   "cell_type": "code",
   "execution_count": null,
   "metadata": {
    "collapsed": false
   },
   "outputs": [],
   "source": [
    "# TO BE COMPLETED"
   ]
  },
  {
   "cell_type": "markdown",
   "metadata": {},
   "source": [
    "To perform a non-linear approximation using wavelet representation, we again use hard thresholding."
   ]
  },
  {
   "cell_type": "code",
   "execution_count": null,
   "metadata": {
    "collapsed": false
   },
   "outputs": [],
   "source": [
    "# Threshold\n",
    "T = .15\n",
    "\n",
    "# Hard-thresholding\n",
    "fwT = np.multiply(fw,(abs(fw) > T))\n",
    "\n",
    "# Display\n",
    "plt.figure(figsize=(15,15))\n",
    "\n",
    "plt.subplot(1, 2, 1)\n",
    "plot_wavelet(fw)\n",
    "plt.title('Original coefficients')\n",
    "\n",
    "plt.subplot(1, 2, 2)\n",
    "plot_wavelet(fwT)\n",
    "plt.title('Thresholded coefficients')\n",
    "\n",
    "plt.show()\n",
    "\n",
    "# Perform reconstruction\n",
    "fM = perform_wavortho_transf(fwT, Jmin, -1,h)\n",
    "\n",
    "\n",
    "# Display\n",
    "plt.figure(figsize=(5,5))\n",
    "imageplot(clamp(fM), \"Approximation, SNR,  = %.1f dB\" %snr(f, fM))"
   ]
  },
  {
   "cell_type": "markdown",
   "metadata": {},
   "source": [
    "__Exercise 4__ \n",
    "\n",
    "\n",
    "1.  Perform the non-linear Wavelet approximation keeping the $M$ largest coefficients.\n",
    "+  Store the result in the variable $f_M$. \n",
    "+ Compute the SNR of the approximated image using the function $\\texttt{snr}$.\n",
    "+ Display the approximated image."
   ]
  },
  {
   "cell_type": "code",
   "execution_count": null,
   "metadata": {
    "collapsed": false
   },
   "outputs": [],
   "source": [
    "# TO BE COMPLETED"
   ]
  },
  {
   "cell_type": "markdown",
   "metadata": {},
   "source": [
    "### Approximation error (Wavelets vs. Fourier)\n",
    "----------------------------------------------\n",
    "\n",
    "The best $M$-term approximation error is computed using the\n",
    "conservation of energy as\n",
    "\n",
    "$$ \\epsilon[M]^2 = \\|f-f_M\\|_2^2 = \\sum_{ \\left| \\langle f , \\psi_m \\rangle \\right| \\leq T} \\left| \\langle f , \\psi_m \\rangle  \\right|^2.  $$\n",
    "\n",
    "\n",
    "If one denotes by $ \\{ c_R[k] \\}_{k=0}^{N-1} $ the set of\n",
    "coefficients magnitudes $ \\left| \\langle f , \\psi_m \\rangle  \\right| $ ordered by *decaying*\n",
    "magnitudes, then this error is easily computed as\n",
    "$$ \\epsilon[M]^2 = \\sum_{k=M}^{N-1} c_R[k]^2\n",
    "    = \\|f\\|^2 - \\sum_{k=0}^{M-1} c_R[k]^2. $$\n",
    "This means that $\\epsilon^2$ is equal to\n",
    "$\\|f\\|^2$ minus the discrete primitive of $ c_R^2 $.\n"
   ]
  },
  {
   "cell_type": "markdown",
   "metadata": {},
   "source": [
    "__Exercise 5 (wavelets vs. Fourier)__\n",
    "\n",
    "1. Compute and store the values of $\\epsilon[M]^2$ in vector $err\\_wav$, $err\\_fft$ for wavelet and fourier non-linear approximation.\n",
    "+ Display in log-scale the non-linear approximation\n",
    "error $\\epsilon[M]^2$ for  wavelets and fourier bases.\n",
    "+ Compare the Fourier and wavelets approximations.\n"
   ]
  },
  {
   "cell_type": "code",
   "execution_count": null,
   "metadata": {
    "collapsed": false
   },
   "outputs": [],
   "source": [
    "# for Fourier\n",
    "# TO BE COMPLETED\n"
   ]
  },
  {
   "cell_type": "code",
   "execution_count": null,
   "metadata": {
    "collapsed": false
   },
   "outputs": [],
   "source": []
  },
  {
   "cell_type": "code",
   "execution_count": null,
   "metadata": {
    "collapsed": false
   },
   "outputs": [],
   "source": [
    "from pylab import linalg\n",
    "\n"
   ]
  },
  {
   "cell_type": "code",
   "execution_count": null,
   "metadata": {
    "collapsed": false
   },
   "outputs": [],
   "source": [
    "# for Wavelets\n",
    "# TO BE COMPLETED\n",
    "from nt_toolbox.perform_wavelet_transf import *\n",
    "from nt_toolbox.compute_wavelet_filter import *\n",
    "\n",
    "\n"
   ]
  },
  {
   "cell_type": "code",
   "execution_count": null,
   "metadata": {
    "collapsed": false
   },
   "outputs": [],
   "source": [
    "from pylab import linalg  #used for norms\n",
    "\n",
    "# Comparison\n",
    "plt.plot(np.log10(err_fft/linalg.norm(f)**2),linewidth=2, color = \"red\", label = \"Fourier\")\n",
    "plt.plot(np.log10(err_wav/linalg.norm(f)**2),linewidth=2, color = \"blue\", label = \"Wavelets\")\n",
    "\n",
    "plt.title(\"$\\log_{10}(\\epsilon^2[M]/ ||f||^2)$\")\n",
    "plt.xlim(1,n**2/50)\n",
    "plt.ylim(-2.35,0)\n",
    "plt.legend()\n",
    "\n",
    "plt.show()"
   ]
  },
  {
   "cell_type": "markdown",
   "metadata": {},
   "source": [
    "# II. A first regularization\n",
    "\n",
    "\n",
    "In the setting of compressed sensing, we observe $m$ linear projections of an object $x \\in \\mathbb{R}^n$ where $m\\ll n$. The data is contained in vector $y=Ax$ where $A$ is the sensing matrix.\n",
    "\n",
    "We want to solve an under-determined linear system. To do so, one can choose to pick the solution with the minimimal energy in $\\ell^2$-norm.\n",
    "\n",
    "It can read as follows\n",
    "$$ \\min_{z \\in  \\mathbb{R}^n} \\| z \\|_2 \\quad \\text{s.t.} \\quad y=Az.\n",
    "$$\n",
    "\n",
    "\n"
   ]
  },
  {
   "cell_type": "markdown",
   "metadata": {},
   "source": [
    "__ Exercice 6 __\n",
    "\n",
    "1. Show that solving the above problem is equivalent to solving the following problem\n",
    "$$ \\min_{z \\in  \\mathbb{R}^n} \\| z \\|_2^2 \\quad \\text{s.t.} \\quad y=Az.\n",
    "$$\n",
    "+ Is there a solution to the above problem ? Is it unique ?\n",
    "+ Using the Lagrangian, write optimality conditions. Deduce an optimum.\n",
    "+ Now, we want to find the same optimum but using only Fermat's rule.\n",
    "    1. Show that the problem can be rewritten as follows \n",
    "    $$ \\min_{z \\in  \\mathbb{R}^n} \\| z \\|_2^2 + \\chi_C(z)\n",
    "    $$\n",
    "    where $\\chi_C$ is the characteristic function of the (convex) set $C:=\\{ x : y=Ax \\}$.\n",
    "    + Show that the subdifferential of a characteristic function of a convex set corresponds to the normal cone\n",
    "    $$ \\mathcal{N}_C(x) = \\{ d , \\langle d, y-x \\rangle \\leq 0 , \\quad \\forall y \\in C \\}\n",
    "    $$ \n",
    "    + Show that the normal cone to the set $C:=\\{ x : y=Ax \\}$ is $\\ker(A)^\\perp = \\text{ran} (A^*)$.\n",
    "    + Write the Fermat's rule for the last optimization problem and deduce an optimum.\n",
    "+ Implement the solution to the $\\ell^2$-regularized problem that you have found in questions 3 and 4."
   ]
  },
  {
   "cell_type": "code",
   "execution_count": null,
   "metadata": {
    "collapsed": false
   },
   "outputs": [],
   "source": [
    "# Sparse signal\n",
    "n = 256\n",
    "s = 3\n",
    "\n",
    "x = np.zeros(n)\n",
    "x[np.random.permutation(n)[:s]] = np.random.randn(s) * 10\n",
    "\n",
    "plt.figure()\n",
    "plt.stem(x);\n",
    "plt.title('Original signal')\n",
    "\n",
    "# Sensing matrix\n",
    "prop = 0.3\n",
    "m = np.round(prop*n)\n",
    "A = np.random.randn(m,n) * 20\n",
    "\n",
    "# Display the sensing matrix - to be coded\n",
    "\n",
    "# Define the measurements vector y - to be coded\n",
    "\n",
    "# L2 reconstruction - to be coded\n"
   ]
  },
  {
   "cell_type": "markdown",
   "metadata": {},
   "source": [
    "# III. Link between sensing and representation bases\n",
    "\n",
    "\n",
    "In this section, we want to compare the sparse reconstruction (coded in a black box) of various sparse signals.\n",
    "\n",
    "\n",
    "__ Exercise 7 __\n",
    "\n",
    "\n",
    "Run the following code and explain what you observe.\n",
    "Compute the coherence for the first two sensing matrices."
   ]
  },
  {
   "cell_type": "code",
   "execution_count": null,
   "metadata": {
    "collapsed": false
   },
   "outputs": [],
   "source": [
    "# Sparse signal to be reconstructed\n",
    "n = 50\n",
    "s = 3\n",
    "x = np.zeros(n)\n",
    "x[np.random.permutation(n)[:s]] = np.random.randn(s) * 20\n",
    "\n",
    "plt.figure()\n",
    "plt.stem(x);\n",
    "plt.title('Original signal')\n",
    "\n",
    "# 3 different sensing matrices and the associated data\n",
    "m = np.round(0.3*n)  # number of measurements\n",
    "\n",
    "ind1 = np.random.permutation(n)[:m]\n",
    "aux = np.eye(n)\n",
    "A1 = aux[ind1]  # randomly selected atoms of the canonical basis\n",
    "y1 = A1.dot(x)\n",
    "\n",
    "ind2 = np.random.permutation(n)[:m]\n",
    "aux2 = np.fft.fft(np.eye(n))\n",
    "A2 = aux2[ind2] / np.sqrt(n)  # randomly selected atoms of the Fourier basis\n",
    "y2 = A2.dot(x)\n",
    "\n",
    "A3 = np.random.randn(m, n) * 10  # Gaussian matrix\n",
    "y3 = A3.dot(x)\n",
    "\n",
    "# Corresponding L1 reconstructions\n",
    "niter = 100\n",
    "x1, lun1, err1 = MinL1_DR(y1, A1, niter)\n",
    "x2, lun2, err2 = MinL1_DR(y2, A2, niter)\n",
    "x3, lun3, err3 = MinL1_DR(y3, A3, niter)\n",
    "\n",
    "plt.figure()\n",
    "markerline, _, _ = plt.stem(x, linefmt='k-', markerfmt='k*', basefmt='k-', label='True signal')\n",
    "plt.setp(markerline, 'fillstyle', 'none')\n",
    "markerline, _, _ = plt.stem(x1, linefmt='b-', markerfmt='bo', basefmt='b-', label=\"Random identity\")\n",
    "plt.setp(markerline, 'fillstyle', 'none')\n",
    "markerline, _, _ = plt.stem(x2, linefmt='m-', markerfmt='md', basefmt='m-', label=\"Random Fourier\")\n",
    "plt.setp(markerline, 'fillstyle', 'none')\n",
    "markerline, _, _ = plt.stem(x3, linefmt='g-', markerfmt='gs', basefmt='g-', label=\"Gaussian\")\n",
    "plt.setp(markerline, 'fillstyle', 'none')\n",
    "plt.legend();"
   ]
  },
  {
   "cell_type": "markdown",
   "metadata": {},
   "source": [
    "$(\\star \\star \\star)$ only for those who want to go further (what's following is totally out of scope of this master course).\n",
    "\n",
    "\n",
    "Estimate the coherence for a Gaussian matrix $A\\in \\mathbb{R}^{m\\times n}$ which entry are i.i.d. $\\mathcal{N}(0,1/n)$. To do so, one can use the (concentration) results of the Boucheron, Lugosi, Massart's book \"Concentration inequalities\" (Thm 2.3 + Example 2.7 would lead to the result)."
   ]
  },
  {
   "cell_type": "markdown",
   "metadata": {
    "collapsed": true
   },
   "source": [
    "__ Exercise 8 __\n",
    "\n",
    "The setting of Magnetic Resonance Imaging (MRI) is considered in this section.\n",
    "1. Recall what are the typical sensing and representation bases in the case of MRI.\n",
    "+  Run the following code.\n",
    "+  What are the differences between the two sensing matrices used here? \n",
    "+  ($\\star \\star$) In terms of coherence? Deduce some weakness on the present definition of coherence."
   ]
  },
  {
   "cell_type": "code",
   "execution_count": null,
   "metadata": {
    "collapsed": false
   },
   "outputs": [],
   "source": [
    "# Comparison in the MRI case\n",
    "im = load_image(\"nt_toolbox/data/phantom.bmp\")\n",
    "p = im.shape[0]\n",
    "m = np.round(0.3 * p**2)  # Number of measurements\n",
    "\n",
    "# Parameters for the wavelets filter\n",
    "d = 2\n",
    "level = 3\n",
    "J = np.log2(p)\n",
    "Jmin = max(1, J-level)\n",
    "hparams = ('Daubechies', 10)\n",
    "\n",
    "# Loading the sampling mask - the sampled frequencies correspond to white dots\n",
    "mask = loadmat('nt_toolbox/data/mask512.mat')['mask']\n",
    "\n",
    "plt.figure()\n",
    "plt.imshow(mask, cmap='gray');\n",
    "plt.axis('off')\n",
    "plt.title('1st mask: set of selected sampled locations')\n",
    "\n",
    "# Another sampling mask\n",
    "mask_unif = np.zeros((p, p))\n",
    "ind = np.random.permutation(p**2)[:m]\n",
    "mask_unif.flat[ind] = 1\n",
    "\n",
    "plt.figure()\n",
    "plt.imshow(mask_unif, cmap='gray');\n",
    "plt.axis('off')\n",
    "plt.title('2nd mask: set of selected sampled locations')\n",
    "\n"
   ]
  },
  {
   "cell_type": "code",
   "execution_count": null,
   "metadata": {
    "collapsed": false
   },
   "outputs": [],
   "source": [
    "# measurements corresponding to both masks\n",
    "measurements = np.fft.fftshift(mask) * np.fft.fft2(im) / p\n",
    "measurements_unif = np.fft.fftshift(mask_unif) * np.fft.fft2(im) / p\n",
    "\n",
    "# L1-reconstruction \n",
    "# Beware : execution time of the order of 1 min\n",
    "niter = 20\n",
    "rec, lun, err = MinL1_fw_2d(mask, measurements, level, hparams=hparams, niter=niter)\n",
    "rec_unif, lun_unif, err_unif = MinL1_fw_2d(mask_unif, measurements, level, hparams=hparams, niter=niter)\n",
    "\n",
    "# Reconstruction display\n",
    "h = compute_wavelet_filter(*hparams)\n",
    "rec_trans = perform_wavortho_transf(rec, Jmin, -1, h)\n",
    "rec_unif_trans = perform_wavortho_transf(rec_unif, Jmin, -1, h)\n",
    "\n",
    "plt.figure()\n",
    "plt.imshow(rec_trans, cmap='gray');\n",
    "plt.axis('off')\n",
    "plt.title('L1 reconstruction with the 1st mask')\n",
    "\n",
    "plt.figure()\n",
    "plt.imshow(rec_unif_trans, cmap='gray');\n",
    "plt.axis('off')\n",
    "plt.title('L1 reconstruction with the 2nd mask')"
   ]
  },
  {
   "cell_type": "code",
   "execution_count": null,
   "metadata": {
    "collapsed": true
   },
   "outputs": [],
   "source": []
  }
 ],
 "metadata": {
  "anaconda-cloud": {},
  "kernelspec": {
   "display_name": "Python [default]",
   "language": "python",
   "name": "python3"
  },
  "language_info": {
   "codemirror_mode": {
    "name": "ipython",
    "version": 3
   },
   "file_extension": ".py",
   "mimetype": "text/x-python",
   "name": "python",
   "nbconvert_exporter": "python",
   "pygments_lexer": "ipython3",
   "version": "3.5.2"
  }
 },
 "nbformat": 4,
 "nbformat_minor": 1
}
