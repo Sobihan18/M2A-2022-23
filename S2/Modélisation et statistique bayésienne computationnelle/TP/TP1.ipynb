{
 "cells": [
  {
   "cell_type": "markdown",
   "metadata": {},
   "source": [
    "=======================================================================================\n",
    "\n",
    "# TP de Statistique Bayésienne\n",
    "\n",
    "# Version étudiant\n",
    "=======================================================================================\n",
    "\n",
    "Dans ce TP, nous allons mettre en place quelques procédures de calcul bayésien dans \n",
    "un cas conjugué : la loi du posterior appartient à la même classe que la loi du prior"
   ]
  },
  {
   "cell_type": "code",
   "execution_count": 10,
   "metadata": {},
   "outputs": [],
   "source": [
    "%matplotlib notebook\n",
    "import matplotlib.pyplot as pl\n",
    "import numpy as np\n",
    "import pandas as pd\n",
    "from scipy import stats"
   ]
  },
  {
   "cell_type": "markdown",
   "metadata": {},
   "source": [
    "## Loi exponentielle (modèle de durée de vie)"
   ]
  },
  {
   "cell_type": "markdown",
   "metadata": {},
   "source": [
    "Définir une fonction, prenant comme arguments *(a,n,lambda0,lambda1)*, qui : \n",
    "- simule n données de loi exponentielle *E(lambda0)*\n",
    "- trace la vraisemblance sur l'axe des lambda \n",
    "- trace sur ce même axe une densité a priori de loi **gamma G(a,b)** pour lambda, en fixant l'espérance de cette loi a lambda1\n",
    "- trace sur ce même axe la densité a posteriori de lambda\n",
    "\n",
    "Modifiez les paramètres d'entrée ; comment évolue la loi a posteriori vis-à-vis de la vraisemblance et de la loi a priori ?\n",
    "\n",
    "Quel sens pouvons-nous donner aux hyperparamètres **a** et **b** ? \n",
    "\n",
    "Faites tendre **a** et **b** vers 0. Que se passe-t-il ? "
   ]
  },
  {
   "cell_type": "code",
   "execution_count": null,
   "metadata": {},
   "outputs": [],
   "source": []
  }
 ],
 "metadata": {
  "kernelspec": {
   "display_name": "Python 3",
   "language": "python",
   "name": "python3"
  },
  "language_info": {
   "codemirror_mode": {
    "name": "ipython",
    "version": 3
   },
   "file_extension": ".py",
   "mimetype": "text/x-python",
   "name": "python",
   "nbconvert_exporter": "python",
   "pygments_lexer": "ipython3",
   "version": "3.7.4"
  }
 },
 "nbformat": 4,
 "nbformat_minor": 2
}
