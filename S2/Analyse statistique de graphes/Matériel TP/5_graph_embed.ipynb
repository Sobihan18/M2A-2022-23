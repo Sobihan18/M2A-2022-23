{
 "cells": [
  {
   "cell_type": "markdown",
   "id": "e7a8ab05-5050-474a-990b-cc63ea07378b",
   "metadata": {},
   "source": [
    "# TP Graph nodes embedding\n",
    "\n",
    "Dans ce TP, on va juste illustrer 2 méthodes de plongement des noeuds d'un graphe : DeepWalk et Node2Vec. \n",
    "\n",
    "## DeepWalk\n",
    "\n",
    "(Pour info, la page officielle de DeepWalk est ici https://github.com/phanein/deepwalk ). On va utiliser l'implementation de DeepWalk disponible dans la librairie `karateclub`. \n",
    "On utilise le code illustratif de DeepWalk disponible à cette page https://www.geeksforgeeks.org/deepwalk-algorithm/\n",
    "\n",
    "Commencez par installer les packages dont vous aurez besoin :\n",
    "- il est préférable d'installer les paquets en ligne de commande dans un terminal, avec \n",
    "    pip install karateclub\n",
    "    pip install networkx\n",
    "- Vous aurez aussi besoin de librairies python classiques : scikit-learn, matplotlib, pandas  (que vous pouvez installer si besoin comme ci-dessus)   \n",
    "- sinon vous pouvez essayer d'installer les librairies depuis le notebook comme ci-dessous, mais ça n'est pas le plus recommandé (commandes à executer une seule fois puis à commenter). "
   ]
  },
  {
   "cell_type": "code",
   "execution_count": 1,
   "id": "ff919de6-cc2c-4694-9ae0-79ff81c6f835",
   "metadata": {
    "tags": []
   },
   "outputs": [],
   "source": [
    "import sys\n",
    "\n",
    "# Install karateclub API\n",
    "# WARNING c'est assez long ! \n",
    "#!{sys.executable} -m  pip install karateclub\n",
    "\n",
    "# Install packages \n",
    "# Install a pip package in the current Jupyter kernel\n",
    "#!{sys.executable} -m pip install networkx\n",
    "\n",
    "## Seulement si besoin \n",
    "#!{sys.executable} -m pip install -U scikit-learn\n",
    "#!{sys.executable} -m pip install -U matplotlib\n",
    "#!{sys.executable} -m pip install pandas"
   ]
  },
  {
   "cell_type": "markdown",
   "id": "2923b503-adce-4ab4-b614-d7fecdd122bc",
   "metadata": {},
   "source": [
    "Ensuite on importe les librairies dont on aura besoin (si un `import` ne fonctionne pas, peut-être avez vous besoin d'installer la librairie correspondante, auquel cas revenez à l'étape précédente et décommentez une des lignes)."
   ]
  },
  {
   "cell_type": "code",
   "execution_count": 2,
   "id": "8f4b5622-ecdc-447c-b7a4-4e87bfa1dc6e",
   "metadata": {
    "tags": []
   },
   "outputs": [],
   "source": [
    "# imports\n",
    "import numpy as np\n",
    "import random as rd \n",
    "import pandas as pd\n",
    "\n",
    "from sklearn.decomposition import PCA\n",
    "import matplotlib.pyplot as plt\n",
    "from karateclub import DeepWalk  \n",
    "\n",
    "import networkx as nx\n"
   ]
  },
  {
   "cell_type": "markdown",
   "id": "a087b2ad-8e64-4e86-a92e-1a0d5d813849",
   "metadata": {},
   "source": [
    "Récupérez le jeu de données Facebook dataset dispo ici https://snap.stanford.edu/data/gemsec-Facebook.html\n",
    "\n",
    "Dézippez et chargez les données"
   ]
  },
  {
   "cell_type": "code",
   "execution_count": 3,
   "id": "97c4d368-8c72-4501-bd7c-95ed6e6d51c3",
   "metadata": {
    "tags": []
   },
   "outputs": [
    {
     "data": {
      "text/html": [
       "<div>\n",
       "<style scoped>\n",
       "    .dataframe tbody tr th:only-of-type {\n",
       "        vertical-align: middle;\n",
       "    }\n",
       "\n",
       "    .dataframe tbody tr th {\n",
       "        vertical-align: top;\n",
       "    }\n",
       "\n",
       "    .dataframe thead th {\n",
       "        text-align: right;\n",
       "    }\n",
       "</style>\n",
       "<table border=\"1\" class=\"dataframe\">\n",
       "  <thead>\n",
       "    <tr style=\"text-align: right;\">\n",
       "      <th></th>\n",
       "      <th>node_1</th>\n",
       "      <th>node_2</th>\n",
       "    </tr>\n",
       "  </thead>\n",
       "  <tbody>\n",
       "    <tr>\n",
       "      <th>0</th>\n",
       "      <td>0</td>\n",
       "      <td>1972</td>\n",
       "    </tr>\n",
       "    <tr>\n",
       "      <th>1</th>\n",
       "      <td>0</td>\n",
       "      <td>5111</td>\n",
       "    </tr>\n",
       "    <tr>\n",
       "      <th>2</th>\n",
       "      <td>0</td>\n",
       "      <td>138</td>\n",
       "    </tr>\n",
       "    <tr>\n",
       "      <th>3</th>\n",
       "      <td>0</td>\n",
       "      <td>3053</td>\n",
       "    </tr>\n",
       "    <tr>\n",
       "      <th>4</th>\n",
       "      <td>0</td>\n",
       "      <td>1473</td>\n",
       "    </tr>\n",
       "  </tbody>\n",
       "</table>\n",
       "</div>"
      ],
      "text/plain": [
       "   node_1  node_2\n",
       "0       0    1972\n",
       "1       0    5111\n",
       "2       0     138\n",
       "3       0    3053\n",
       "4       0    1473"
      ]
     },
     "execution_count": 3,
     "metadata": {},
     "output_type": "execute_result"
    }
   ],
   "source": [
    "# import dataset\n",
    "df = pd.read_csv(\"facebook_clean_data/politician_edges.csv\")\n",
    "df.head()  "
   ]
  },
  {
   "cell_type": "code",
   "execution_count": 4,
   "id": "28646423-6448-423d-bac9-eb558143921c",
   "metadata": {
    "tags": []
   },
   "outputs": [
    {
     "name": "stdout",
     "output_type": "stream",
     "text": [
      "<class 'pandas.core.frame.DataFrame'>\n",
      "RangeIndex: 41729 entries, 0 to 41728\n",
      "Data columns (total 2 columns):\n",
      " #   Column  Non-Null Count  Dtype\n",
      "---  ------  --------------  -----\n",
      " 0   node_1  41729 non-null  int64\n",
      " 1   node_2  41729 non-null  int64\n",
      "dtypes: int64(2)\n",
      "memory usage: 652.1 KB\n",
      "None\n"
     ]
    },
    {
     "data": {
      "text/plain": [
       "5908"
      ]
     },
     "execution_count": 4,
     "metadata": {},
     "output_type": "execute_result"
    }
   ],
   "source": [
    "print(df.info())\n",
    "len(pd.concat([df['node_1'],df['node_2']]).unique())\n"
   ]
  },
  {
   "cell_type": "markdown",
   "id": "4d8bd9a7-eaa0-4881-9ac2-be28c3706d35",
   "metadata": {},
   "source": [
    "Le tableau de données contient une liste de 41729 arêtes (nb de lignes) et il y a 5908 noeuds. "
   ]
  },
  {
   "cell_type": "code",
   "execution_count": 5,
   "id": "2baf975a-de76-440d-8e93-fbf3a4184e24",
   "metadata": {
    "tags": []
   },
   "outputs": [
    {
     "name": "stdout",
     "output_type": "stream",
     "text": [
      "5908\n"
     ]
    }
   ],
   "source": [
    "# create Graph with networkx\n",
    "G_fbk = nx.from_pandas_edgelist(df, \"node_1\", \"node_2\", create_using=nx.Graph())\n",
    "print(len(G_fbk))\n",
    "  "
   ]
  },
  {
   "cell_type": "markdown",
   "id": "d4fe3a48-1ccb-4975-9bd0-8dcbfa8ef9ad",
   "metadata": {},
   "source": [
    "On va maintenant lancer DeepWalk. Les paramètres sont (entre autres) :\n",
    "\n",
    "* `walk_number` : le nombre de marches aléatoires (Default is 10) ;\n",
    "* `walk_length` : la longueur de chaque marche aléatoire (Default is 80) ;\n",
    "* `dimensions` : la dimension de l'espace dans lequel on plonge les données (Default is 128) ;\n",
    "* `window_size`: la taille de la fenêtre qui définit le voisinage de chaque noeud (Default is 5).\n",
    "  "
   ]
  },
  {
   "cell_type": "code",
   "execution_count": 6,
   "id": "3842d72f-2d95-41ff-8197-a0caca636776",
   "metadata": {
    "tags": []
   },
   "outputs": [],
   "source": [
    "# help(DeepWalk)"
   ]
  },
  {
   "cell_type": "code",
   "execution_count": 7,
   "id": "f0948fae-e721-4f37-bd09-0bf93bf64993",
   "metadata": {
    "tags": []
   },
   "outputs": [
    {
     "name": "stdout",
     "output_type": "stream",
     "text": [
      "(5908, 64)\n"
     ]
    }
   ],
   "source": [
    "# train model and generate embedding\n",
    "model = DeepWalk(walk_number=20,walk_length=100, dimensions=64, window_size=5)\n",
    "model.fit(G_fbk)\n",
    "embedding = model.get_embedding()\n",
    "\n",
    "# print Embedding shape\n",
    "print(embedding.shape)"
   ]
  },
  {
   "cell_type": "markdown",
   "id": "425cf7e0-525a-44fb-bca6-66d3fd148cde",
   "metadata": {},
   "source": [
    "On a envoyé 5908 nooeuds du graphe dans un espace à 64 dimensions. \n",
    "\n",
    "Une fois le plongement fait, on peut le visualiser. Pour cela, on utilise une fonction qui va représenter les points dans le plan des deux premières composantes principales du nuage : \n"
   ]
  },
  {
   "cell_type": "code",
   "execution_count": 8,
   "id": "ab898d1f-2a11-4834-ad37-5cf2c43c03ce",
   "metadata": {
    "tags": []
   },
   "outputs": [],
   "source": [
    "# plot nodes graph\n",
    "def plot_nodes(embedding,node_no):\n",
    "    X = embedding[node_no]\n",
    "      \n",
    "    pca = PCA(n_components=2)\n",
    "    pca_out= pca.fit_transform(X)\n",
    "      \n",
    "      \n",
    "    plt.figure(figsize=(15,10))\n",
    "    plt.scatter(pca_out[:, 0], pca_out[:, 1])\n",
    "    for i, node in enumerate(node_no):\n",
    "        plt.annotate(node, (pca_out[i, 0], pca_out[i, 1]))\n",
    "    plt.xlabel('Label_1')\n",
    "    plt.ylabel('label_2')\n",
    "    plt.show()\n",
    "  \n"
   ]
  },
  {
   "cell_type": "markdown",
   "id": "7b10b9d6-a2fb-465b-9456-7e15207edda1",
   "metadata": {
    "tags": []
   },
   "source": [
    "On ne va pas visualiser les 5908 noeuds mais seulement les 100 premiers (et du coup les axes de l'ACP sont choisis sur ces 100 points).   "
   ]
  },
  {
   "cell_type": "code",
   "execution_count": 9,
   "id": "b825b919-8b6b-44fb-8f43-dd46d00b7598",
   "metadata": {
    "tags": []
   },
   "outputs": [],
   "source": [
    "# take first 100 nodes\n",
    "nodes =list(range(100))"
   ]
  },
  {
   "cell_type": "code",
   "execution_count": 10,
   "id": "a028950e-a2ca-4969-aef5-997a63a36b1c",
   "metadata": {
    "tags": []
   },
   "outputs": [
    {
     "data": {
      "image/png": "[encoded data removed]",
      "text/plain": [
       "<Figure size 1500x1000 with 1 Axes>"
      ]
     },
     "metadata": {},
     "output_type": "display_data"
    }
   ],
   "source": [
    "plot_nodes(embedding,nodes)"
   ]
  },
  {
   "cell_type": "markdown",
   "id": "e9f4330f-9818-4912-9ec9-0c650a4f331e",
   "metadata": {},
   "source": [
    "\n",
    "Cet exemple n'est pas très intéressant, puisqu'on a aucun moyen de mesurer la qualité ou l'intérêt de ce plongement. On va donc s'intéresser à un jeu de données avec des clusters bien identifiés et voir si DeepWalk nous permet de faire de la classification non supervisée sur les données.\n",
    "\n",
    "\n",
    "**Question** : On va maintenant utiliser `DeepWalk` sur un graphe de similarité construit à partir d'un tableau de données :\n",
    "\n",
    "- Choisissez une dimension p ;\n",
    "- Générez n vecteurs suivant un mélange de 2 gaussiennes en dimension p (vous pourrez choisir les paramètres des gaussiennes) ;\n",
    "- Créez un graphe de similarité sur ces n données ;\n",
    "- puis faites tourner l'algo DeepWalk sur ce graphe, avec la bonne dimension et une dimension différente ; observez les résultats."
   ]
  },
  {
   "cell_type": "markdown",
   "id": "4a752623-08b8-422f-b8ec-c4bf581c04ba",
   "metadata": {},
   "source": [
    "## Node2vec\n",
    "\n",
    "On rappelle que Node2vec est une version améliorée de DeepWalk, dans laquelle la marche aléatoire est biaisée. \n",
    "La page officielle de Node2Vec est ici https://github.com/eliorc/node2vec \n",
    "On va suivre l'exemple en démo. \n",
    "\n",
    "Commencez par installer node2vec dans un terminal avec `pip install node2vec` ou depuis le notebook (mais ce n'est pas recommandé) et importez la librairie. \n"
   ]
  },
  {
   "cell_type": "code",
   "execution_count": 17,
   "id": "c9059598-ca39-461b-8c27-4c9c39e8d26b",
   "metadata": {},
   "outputs": [],
   "source": [
    "#import sys\n",
    "#!{sys.executable} -m  pip install node2vec\n",
    "\n",
    "from node2vec import Node2Vec"
   ]
  },
  {
   "cell_type": "markdown",
   "id": "58a41ecb-73c4-4f3d-a3d2-641769a472f3",
   "metadata": {},
   "source": [
    "On va ensuite tester la méthode sur le graphe de similarité G obtenu ci-dessus. \n",
    "\n",
    "Les options de Node2Vec sont similaires à celles de DeepWalk \n",
    "- `dimensions`: Embedding dimensions (default: 128)\n",
    "- `walk_length`: Number of nodes in each walk (default: 80)\n",
    "- `num_walks`: Number of walks per node (default: 10)\n",
    "- `p`: Return hyper parameter (default: 1)\n",
    "- `q`: Inout parameter (default: 1)\n",
    "\n",
    "Si vous laissez les valeurs de `p,q` par défaut, vous retombez normalement sur la méthode DeepWalk, donc ça n'a pas d'intérêt. Mais on ne sait pas forcément comment choisir ces paramètres. \n",
    "(Note: In node2vec paper they searched the [0.25,4]*[0.25,4] grid and it did have a significant impact on performance, for the task of multi-label node classification.)\n",
    "\n",
    "Notez que contrairement à `DeepWalk` :\n",
    " - la taille de la fenêtre `window` n'est pas un paramètre du modèle mais de la fonction d'ajustement aux données `fit` \n",
    " - les données se passent dans le modèle (parce que les probas de la marche aléatoire dépendent des voisinages).\n"
   ]
  },
  {
   "cell_type": "code",
   "execution_count": 18,
   "id": "5f0a7ad8-38c6-41ae-a283-57a20569eb8f",
   "metadata": {},
   "outputs": [],
   "source": [
    "#help(Node2Vec)\n",
    "#help(Node2Vec.fit)\n",
    "\n",
    "# The Node2Vec.fit method accepts any keyword argument acceptable by gensim.Word2Vec\n",
    "# On importe Word2Vec pour accéder à l'aide \n",
    "from gensim.models import Word2Vec \n",
    "#help(Word2Vec)\n"
   ]
  },
  {
   "cell_type": "code",
   "execution_count": 19,
   "id": "5966ad5d-98cb-4453-80c1-03bf4fdc07c6",
   "metadata": {},
   "outputs": [
    {
     "data": {
      "application/vnd.jupyter.widget-view+json": {
       "model_id": "7c5abfe2cb454912ad3f02dce33bc2a1",
       "version_major": 2,
       "version_minor": 0
      },
      "text/plain": [
       "Computing transition probabilities:   0%|          | 0/100 [00:00<?, ?it/s]"
      ]
     },
     "metadata": {},
     "output_type": "display_data"
    },
    {
     "name": "stderr",
     "output_type": "stream",
     "text": [
      "Generating walks (CPU: 1): 100%|██████████████████████████████████████████████████████████████████████████| 20/20 [00:02<00:00,  8.17it/s]\n"
     ]
    }
   ],
   "source": [
    "# Precompute probabilities and generate walks \n",
    "n2v_model = Node2Vec(G, dimensions=p, walk_length=100, num_walks=20,p=0.2,q=3)  # Use temp_folder for big graphs\n",
    "\n",
    "# Embed nodes\n",
    "model = n2v_model.fit(window=5, min_count=1, batch_words=4)  # Any keywords acceptable by gensim.Word2Vec can be passed, `dimensions` and `workers` are automatically passed (from the Node2Vec constructor)\n",
    "\n",
    "# Save embeddings for later use\n",
    "#model.wv.save_word2vec_format('mon_plongement')\n",
    "\n",
    "# Save model for later use\n",
    "#model.save('mon_modele')"
   ]
  },
  {
   "cell_type": "code",
   "execution_count": 20,
   "id": "72ff11b0-e77c-4afa-bffe-dedb1a205c23",
   "metadata": {},
   "outputs": [
    {
     "data": {
      "text/plain": [
       "[('85', 0.994985818862915),\n",
       " ('92', 0.989438533782959),\n",
       " ('61', 0.9850351810455322),\n",
       " ('98', 0.9818514585494995),\n",
       " ('91', 0.978362500667572),\n",
       " ('76', 0.9718017578125),\n",
       " ('59', 0.9630872011184692),\n",
       " ('51', 0.9629477858543396),\n",
       " ('55', 0.958665132522583),\n",
       " ('84', 0.9366342425346375),\n",
       " ('89', 0.9355130195617676),\n",
       " ('88', 0.932223379611969),\n",
       " ('77', 0.9314787983894348),\n",
       " ('56', 0.907741129398346),\n",
       " ('68', 0.9006848931312561)]"
      ]
     },
     "execution_count": 20,
     "metadata": {},
     "output_type": "execute_result"
    }
   ],
   "source": [
    "# Look for topn most similar nodes to node with index '99'\n",
    "model.wv.most_similar(positive='99',topn = 15)  # Output node names are always strings\n",
    "                                                # second value is similarity\n"
   ]
  },
  {
   "cell_type": "code",
   "execution_count": 21,
   "id": "483eaa72-b058-4e28-aeb4-017e4ab639fa",
   "metadata": {},
   "outputs": [
    {
     "data": {
      "text/plain": [
       "[('66', 0.1961289346218109),\n",
       " ('83', 0.1233200654387474),\n",
       " ('73', 0.0961143746972084),\n",
       " ('34', 0.03273027017712593),\n",
       " ('64', 0.013074022717773914),\n",
       " ('54', -0.009236560203135014),\n",
       " ('90', -0.015547620132565498),\n",
       " ('58', -0.01811583898961544)]"
      ]
     },
     "execution_count": 21,
     "metadata": {},
     "output_type": "execute_result"
    }
   ],
   "source": [
    "# Look for topn less similar nodes to node with index '12'\n",
    "model.wv.most_similar(negative='12',topn=8)  # Output node names are always strings\n",
    "                                             # second value is similarity"
   ]
  },
  {
   "cell_type": "markdown",
   "id": "2e51b107-c45a-4e8f-ace6-79f78652171b",
   "metadata": {},
   "source": [
    "Déjà on constate que les noeuds les plus (resp. les moins) similaires à un noeud donné semblent être dans le même (resp. l'autre) cluster.\n",
    "\n",
    "**Question** : visualisez le plongement obtenu et commentez les résultats vis-à-vis des 2 clusters initiaux."
   ]
  }
 ],
 "metadata": {
  "kernelspec": {
   "display_name": "Python 3 (ipykernel)",
   "language": "python",
   "name": "python3"
  },
  "language_info": {
   "codemirror_mode": {
    "name": "ipython",
    "version": 3
   },
   "file_extension": ".py",
   "mimetype": "text/x-python",
   "name": "python",
   "nbconvert_exporter": "python",
   "pygments_lexer": "ipython3",
   "version": "3.10.10"
  }
 },
 "nbformat": 4,
 "nbformat_minor": 5
}
